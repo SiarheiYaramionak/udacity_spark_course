{
 "cells": [
  {
   "cell_type": "markdown",
   "metadata": {},
   "source": [
    "# MapReduce\n",
    "\n",
    "The MapReduce programming technique was designed to analyze massive data sets across a cluster. In this Jupyter notebook, you'll get a sense for how Hadoop MapReduce works; however, this notebook will run locally rather than on a cluster.\n",
    "\n",
    "The biggest difference between Hadoop and Spark is that Spark tries to do as many calculations as possible in memory, which avoids moving data back and forth across a cluster. Hadoop writes intermediate calculations out to disk, which can be less efficient. Hadoop is an older technology than Spark and one of the cornerstone big data technologies.\n",
    "\n",
    "If you click on the Jupyter notebook logo at the top of the workspace, you'll be taken to the workspace directory. There you will see a file called \"songplays.txt\". This is a text file where each line represents a song that was played in the Sparkify app. The MapReduce code will count how many times each song was played. In other words, the code counts how many times the song title appears in the list.\n",
    "\n",
    "\n",
    "# MapReduce versus Hadoop MapReduce\n",
    "\n",
    "Don't get confused by the terminology! MapReduce is a programming technique. Hadoop MapReduce is a specific implementation of the programming technique.\n",
    "\n",
    "Some of the syntax will look a bit funny, so be sure to read the explanation and comments for each section. You'll learn more about the syntax in later lessons. \n",
    "\n",
    "Run each of the code cells below to see the output."
   ]
  },
  {
   "cell_type": "code",
   "execution_count": 8,
   "metadata": {},
   "outputs": [
    {
     "name": "stdout",
     "output_type": "stream",
     "text": [
      "Requirement already satisfied: mrjob in c:\\users\\josh lee\\anaconda3\\lib\\site-packages (0.5.10)\n",
      "Requirement already satisfied: boto>=2.35.0 in c:\\users\\josh lee\\anaconda3\\lib\\site-packages (from mrjob) (2.49.0)\n",
      "Requirement already satisfied: filechunkio in c:\\users\\josh lee\\anaconda3\\lib\\site-packages (from mrjob) (1.8)\n",
      "Requirement already satisfied: PyYAML>=3.08 in c:\\users\\josh lee\\anaconda3\\lib\\site-packages (from mrjob) (3.13)\n",
      "Requirement already satisfied: google-api-python-client>=1.5.0 in c:\\users\\josh lee\\anaconda3\\lib\\site-packages (from mrjob) (1.7.7)\n",
      "Requirement already satisfied: google-auth>=1.4.1 in c:\\users\\josh lee\\anaconda3\\lib\\site-packages (from google-api-python-client>=1.5.0->mrjob) (1.6.2)\n",
      "Requirement already satisfied: httplib2<1dev,>=0.9.2 in c:\\users\\josh lee\\anaconda3\\lib\\site-packages (from google-api-python-client>=1.5.0->mrjob) (0.12.0)\n",
      "Requirement already satisfied: six<2dev,>=1.6.1 in c:\\users\\josh lee\\anaconda3\\lib\\site-packages (from google-api-python-client>=1.5.0->mrjob) (1.12.0)\n",
      "Requirement already satisfied: uritemplate<4dev,>=3.0.0 in c:\\users\\josh lee\\anaconda3\\lib\\site-packages (from google-api-python-client>=1.5.0->mrjob) (3.0.0)\n",
      "Requirement already satisfied: google-auth-httplib2>=0.0.3 in c:\\users\\josh lee\\anaconda3\\lib\\site-packages (from google-api-python-client>=1.5.0->mrjob) (0.0.3)\n",
      "Requirement already satisfied: pyasn1-modules>=0.2.1 in c:\\users\\josh lee\\anaconda3\\lib\\site-packages (from google-auth>=1.4.1->google-api-python-client>=1.5.0->mrjob) (0.2.2)\n",
      "Requirement already satisfied: cachetools>=2.0.0 in c:\\users\\josh lee\\anaconda3\\lib\\site-packages (from google-auth>=1.4.1->google-api-python-client>=1.5.0->mrjob) (2.1.0)\n",
      "Requirement already satisfied: rsa>=3.1.4 in c:\\users\\josh lee\\anaconda3\\lib\\site-packages (from google-auth>=1.4.1->google-api-python-client>=1.5.0->mrjob) (3.4.2)\n",
      "Requirement already satisfied: pyasn1<0.5.0,>=0.4.1 in c:\\users\\josh lee\\anaconda3\\lib\\site-packages (from pyasn1-modules>=0.2.1->google-auth>=1.4.1->google-api-python-client>=1.5.0->mrjob) (0.4.4)\n"
     ]
    }
   ],
   "source": [
    "# Install mrjob library. This package is for running MapReduce jobs with Python\n",
    "# In Jupyter notebooks, \"!\" runs terminal commands from inside notebooks \n",
    "\n",
    "! pip install mrjob"
   ]
  },
  {
   "cell_type": "code",
   "execution_count": 9,
   "metadata": {},
   "outputs": [
    {
     "name": "stdout",
     "output_type": "stream",
     "text": [
      "Overwriting wordcount.py\n"
     ]
    }
   ],
   "source": [
    "%%file wordcount.py\n",
    "# %%file is an Ipython magic function that saves the code cell as a file\n",
    "\n",
    "from mrjob.job import MRJob # import the mrjob library\n",
    "\n",
    "class MRSongCount(MRJob):\n",
    "    \n",
    "    # the map step: each line in the txt file is read as a key, value pair\n",
    "    # in this case, each line in the txt file only contains a value but no key\n",
    "    # _ means that in this case, there is no key for each line\n",
    "    def mapper(self, _, song):\n",
    "        # output each line as a tuple of (song_names, 1) \n",
    "        yield (song, 1)\n",
    "\n",
    "    # the reduce step: combine all tuples with the same key\n",
    "    # in this case, the key is the song name\n",
    "    # then sum all the values of the tuple, which will give the total song plays\n",
    "    def reducer(self, key, values):\n",
    "        yield (key, sum(values))\n",
    "        \n",
    "if __name__ == \"__main__\":\n",
    "    MRSongCount.run()"
   ]
  },
  {
   "cell_type": "code",
   "execution_count": 13,
   "metadata": {},
   "outputs": [
    {
     "ename": "AttributeError",
     "evalue": "module 'os' has no attribute 'enable_symlink'",
     "output_type": "error",
     "traceback": [
      "\u001b[1;31m---------------------------------------------------------------------------\u001b[0m",
      "\u001b[1;31mAttributeError\u001b[0m                            Traceback (most recent call last)",
      "\u001b[1;32m<ipython-input-13-3d5059ee9a13>\u001b[0m in \u001b[0;36m<module>\u001b[1;34m\u001b[0m\n\u001b[0;32m      4\u001b[0m \u001b[1;33m\u001b[0m\u001b[0m\n\u001b[0;32m      5\u001b[0m \u001b[1;32mimport\u001b[0m \u001b[0mos\u001b[0m\u001b[1;33m\u001b[0m\u001b[1;33m\u001b[0m\u001b[0m\n\u001b[1;32m----> 6\u001b[1;33m \u001b[0mos\u001b[0m\u001b[1;33m.\u001b[0m\u001b[0menable_symlink\u001b[0m\u001b[1;33m(\u001b[0m\u001b[1;33m)\u001b[0m\u001b[1;33m\u001b[0m\u001b[1;33m\u001b[0m\u001b[0m\n\u001b[0m",
      "\u001b[1;31mAttributeError\u001b[0m: module 'os' has no attribute 'enable_symlink'"
     ]
    }
   ],
   "source": [
    "#import admin\n",
    "#if not admin.isUserAdmin():\n",
    "#    admin.runAsAdmin()\n",
    "\n",
    "import os\n",
    "os.enable_symlink()"
   ]
  },
  {
   "cell_type": "code",
   "execution_count": 14,
   "metadata": {
    "scrolled": false
   },
   "outputs": [
    {
     "name": "stderr",
     "output_type": "stream",
     "text": [
      "No configs found; falling back on auto-configuration\n",
      "Creating temp directory C:\\Users\\Josh Lee\\AppData\\Local\\Temp\\wordcount.Josh Lee.20181225.075744.557120\n",
      "Running step 1 of 1...\n",
      "Traceback (most recent call last):\n",
      "  File \"wordcount.py\", line 21, in <module>\n",
      "    MRSongCount.run()\n",
      "  File \"C:\\Users\\Josh Lee\\Anaconda3\\lib\\site-packages\\mrjob\\job.py\", line 439, in run\n",
      "    mr_job.execute()\n",
      "  File \"C:\\Users\\Josh Lee\\Anaconda3\\lib\\site-packages\\mrjob\\job.py\", line 460, in execute\n",
      "    super(MRJob, self).execute()\n",
      "  File \"C:\\Users\\Josh Lee\\Anaconda3\\lib\\site-packages\\mrjob\\launch.py\", line 161, in execute\n",
      "    self.run_job()\n",
      "  File \"C:\\Users\\Josh Lee\\Anaconda3\\lib\\site-packages\\mrjob\\launch.py\", line 231, in run_job\n",
      "    runner.run()\n",
      "  File \"C:\\Users\\Josh Lee\\Anaconda3\\lib\\site-packages\\mrjob\\runner.py\", line 476, in run\n",
      "    self._run()\n",
      "  File \"C:\\Users\\Josh Lee\\Anaconda3\\lib\\site-packages\\mrjob\\sim.py\", line 185, in _run\n",
      "    self._invoke_step(step_num, 'mapper')\n",
      "  File \"C:\\Users\\Josh Lee\\Anaconda3\\lib\\site-packages\\mrjob\\sim.py\", line 251, in _invoke_step\n",
      "    self._setup_working_dir(working_dir)\n",
      "  File \"C:\\Users\\Josh Lee\\Anaconda3\\lib\\site-packages\\mrjob\\sim.py\", line 147, in _setup_working_dir\n",
      "    self._symlink_to_file_or_copy(path, dest)\n",
      "  File \"C:\\Users\\Josh Lee\\Anaconda3\\lib\\site-packages\\mrjob\\sim.py\", line 130, in _symlink_to_file_or_copy\n",
      "    os.symlink(path, dest)\n",
      "OSError: symbolic link privilege not held\n"
     ]
    }
   ],
   "source": [
    "# run the code as a terminal command\n",
    "! python wordcount.py songplays.txt"
   ]
  },
  {
   "cell_type": "markdown",
   "metadata": {},
   "source": [
    "# Summary of what happens in the code.\n",
    "\n",
    "There is a list of songs in songplays.txt that looks like the following:\n",
    "\n",
    "Deep Dreams\n",
    "Data House Rock\n",
    "Deep Dreams\n",
    "Data House Rock\n",
    "Broken Networks\n",
    "Data House Rock\n",
    "etc.....\n",
    "\n",
    "During the map step, the code reads in the txt file one line at a time. The map steps outputs a set of tuples that look like this:\n",
    "\n",
    "(Deep Dreams, 1)  \n",
    "(Data House Rock, 1)  \n",
    "(Deep Dreams, 1)  \n",
    "(Data House Rock, 1)  \n",
    "(Broken Networks, 1)  \n",
    "(Data House Rock, 1)  \n",
    "etc.....\n",
    "\n",
    "Finally, the reduce step combines all of the values by keys and sums the values:  \n",
    "\n",
    "(Deep Dreams, \\[1, 1, 1, 1, 1, 1, ... \\])  \n",
    "(Data House Rock, \\[1, 1, 1, 1, 1, 1, 1, 1, 1, 1, 1, ...\\])  \n",
    "(Broken Networks, \\[1, 1, 1, ...\\]  \n",
    "\n",
    "With the output \n",
    "\n",
    "(Deep Dreams, 1131)  \n",
    "(Data House Rock, 510)  \n",
    "(Broken Networks, 828)  "
   ]
  },
  {
   "cell_type": "code",
   "execution_count": null,
   "metadata": {},
   "outputs": [],
   "source": []
  }
 ],
 "metadata": {
  "kernelspec": {
   "display_name": "Python 3",
   "language": "python",
   "name": "python3"
  },
  "language_info": {
   "codemirror_mode": {
    "name": "ipython",
    "version": 3
   },
   "file_extension": ".py",
   "mimetype": "text/x-python",
   "name": "python",
   "nbconvert_exporter": "python",
   "pygments_lexer": "ipython3",
   "version": "3.6.7"
  }
 },
 "nbformat": 4,
 "nbformat_minor": 2
}
